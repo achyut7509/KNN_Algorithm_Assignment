{
 "cells": [
  {
   "cell_type": "markdown",
   "id": "74f19de1",
   "metadata": {},
   "source": [
    "# KNN Algorithm - Glass Problem\n",
    "## ------------------------------------------------------------------------------------------------------------------------------\n",
    "\n",
    "### Problem Statement :- Prepare a model for glass classification using KNN."
   ]
  },
  {
   "cell_type": "markdown",
   "id": "44a324ef",
   "metadata": {},
   "source": [
    "## 1. Import necessary libraries :"
   ]
  },
  {
   "cell_type": "code",
   "execution_count": 1,
   "id": "8c0ec54f",
   "metadata": {},
   "outputs": [],
   "source": [
    "import pandas as pd\n",
    "import warnings\n",
    "warnings.filterwarnings('ignore')"
   ]
  },
  {
   "cell_type": "markdown",
   "id": "51611890",
   "metadata": {},
   "source": [
    "## 2. Import datasets:"
   ]
  },
  {
   "cell_type": "code",
   "execution_count": 2,
   "id": "bad87123",
   "metadata": {},
   "outputs": [
    {
     "data": {
      "text/html": [
       "<div>\n",
       "<style scoped>\n",
       "    .dataframe tbody tr th:only-of-type {\n",
       "        vertical-align: middle;\n",
       "    }\n",
       "\n",
       "    .dataframe tbody tr th {\n",
       "        vertical-align: top;\n",
       "    }\n",
       "\n",
       "    .dataframe thead th {\n",
       "        text-align: right;\n",
       "    }\n",
       "</style>\n",
       "<table border=\"1\" class=\"dataframe\">\n",
       "  <thead>\n",
       "    <tr style=\"text-align: right;\">\n",
       "      <th></th>\n",
       "      <th>RI</th>\n",
       "      <th>Na</th>\n",
       "      <th>Mg</th>\n",
       "      <th>Al</th>\n",
       "      <th>Si</th>\n",
       "      <th>K</th>\n",
       "      <th>Ca</th>\n",
       "      <th>Ba</th>\n",
       "      <th>Fe</th>\n",
       "      <th>Type</th>\n",
       "    </tr>\n",
       "  </thead>\n",
       "  <tbody>\n",
       "    <tr>\n",
       "      <th>0</th>\n",
       "      <td>1.52101</td>\n",
       "      <td>13.64</td>\n",
       "      <td>4.49</td>\n",
       "      <td>1.10</td>\n",
       "      <td>71.78</td>\n",
       "      <td>0.06</td>\n",
       "      <td>8.75</td>\n",
       "      <td>0.00</td>\n",
       "      <td>0.0</td>\n",
       "      <td>1</td>\n",
       "    </tr>\n",
       "    <tr>\n",
       "      <th>1</th>\n",
       "      <td>1.51761</td>\n",
       "      <td>13.89</td>\n",
       "      <td>3.60</td>\n",
       "      <td>1.36</td>\n",
       "      <td>72.73</td>\n",
       "      <td>0.48</td>\n",
       "      <td>7.83</td>\n",
       "      <td>0.00</td>\n",
       "      <td>0.0</td>\n",
       "      <td>1</td>\n",
       "    </tr>\n",
       "    <tr>\n",
       "      <th>2</th>\n",
       "      <td>1.51618</td>\n",
       "      <td>13.53</td>\n",
       "      <td>3.55</td>\n",
       "      <td>1.54</td>\n",
       "      <td>72.99</td>\n",
       "      <td>0.39</td>\n",
       "      <td>7.78</td>\n",
       "      <td>0.00</td>\n",
       "      <td>0.0</td>\n",
       "      <td>1</td>\n",
       "    </tr>\n",
       "    <tr>\n",
       "      <th>3</th>\n",
       "      <td>1.51766</td>\n",
       "      <td>13.21</td>\n",
       "      <td>3.69</td>\n",
       "      <td>1.29</td>\n",
       "      <td>72.61</td>\n",
       "      <td>0.57</td>\n",
       "      <td>8.22</td>\n",
       "      <td>0.00</td>\n",
       "      <td>0.0</td>\n",
       "      <td>1</td>\n",
       "    </tr>\n",
       "    <tr>\n",
       "      <th>4</th>\n",
       "      <td>1.51742</td>\n",
       "      <td>13.27</td>\n",
       "      <td>3.62</td>\n",
       "      <td>1.24</td>\n",
       "      <td>73.08</td>\n",
       "      <td>0.55</td>\n",
       "      <td>8.07</td>\n",
       "      <td>0.00</td>\n",
       "      <td>0.0</td>\n",
       "      <td>1</td>\n",
       "    </tr>\n",
       "    <tr>\n",
       "      <th>...</th>\n",
       "      <td>...</td>\n",
       "      <td>...</td>\n",
       "      <td>...</td>\n",
       "      <td>...</td>\n",
       "      <td>...</td>\n",
       "      <td>...</td>\n",
       "      <td>...</td>\n",
       "      <td>...</td>\n",
       "      <td>...</td>\n",
       "      <td>...</td>\n",
       "    </tr>\n",
       "    <tr>\n",
       "      <th>209</th>\n",
       "      <td>1.51623</td>\n",
       "      <td>14.14</td>\n",
       "      <td>0.00</td>\n",
       "      <td>2.88</td>\n",
       "      <td>72.61</td>\n",
       "      <td>0.08</td>\n",
       "      <td>9.18</td>\n",
       "      <td>1.06</td>\n",
       "      <td>0.0</td>\n",
       "      <td>7</td>\n",
       "    </tr>\n",
       "    <tr>\n",
       "      <th>210</th>\n",
       "      <td>1.51685</td>\n",
       "      <td>14.92</td>\n",
       "      <td>0.00</td>\n",
       "      <td>1.99</td>\n",
       "      <td>73.06</td>\n",
       "      <td>0.00</td>\n",
       "      <td>8.40</td>\n",
       "      <td>1.59</td>\n",
       "      <td>0.0</td>\n",
       "      <td>7</td>\n",
       "    </tr>\n",
       "    <tr>\n",
       "      <th>211</th>\n",
       "      <td>1.52065</td>\n",
       "      <td>14.36</td>\n",
       "      <td>0.00</td>\n",
       "      <td>2.02</td>\n",
       "      <td>73.42</td>\n",
       "      <td>0.00</td>\n",
       "      <td>8.44</td>\n",
       "      <td>1.64</td>\n",
       "      <td>0.0</td>\n",
       "      <td>7</td>\n",
       "    </tr>\n",
       "    <tr>\n",
       "      <th>212</th>\n",
       "      <td>1.51651</td>\n",
       "      <td>14.38</td>\n",
       "      <td>0.00</td>\n",
       "      <td>1.94</td>\n",
       "      <td>73.61</td>\n",
       "      <td>0.00</td>\n",
       "      <td>8.48</td>\n",
       "      <td>1.57</td>\n",
       "      <td>0.0</td>\n",
       "      <td>7</td>\n",
       "    </tr>\n",
       "    <tr>\n",
       "      <th>213</th>\n",
       "      <td>1.51711</td>\n",
       "      <td>14.23</td>\n",
       "      <td>0.00</td>\n",
       "      <td>2.08</td>\n",
       "      <td>73.36</td>\n",
       "      <td>0.00</td>\n",
       "      <td>8.62</td>\n",
       "      <td>1.67</td>\n",
       "      <td>0.0</td>\n",
       "      <td>7</td>\n",
       "    </tr>\n",
       "  </tbody>\n",
       "</table>\n",
       "<p>214 rows × 10 columns</p>\n",
       "</div>"
      ],
      "text/plain": [
       "          RI     Na    Mg    Al     Si     K    Ca    Ba   Fe  Type\n",
       "0    1.52101  13.64  4.49  1.10  71.78  0.06  8.75  0.00  0.0     1\n",
       "1    1.51761  13.89  3.60  1.36  72.73  0.48  7.83  0.00  0.0     1\n",
       "2    1.51618  13.53  3.55  1.54  72.99  0.39  7.78  0.00  0.0     1\n",
       "3    1.51766  13.21  3.69  1.29  72.61  0.57  8.22  0.00  0.0     1\n",
       "4    1.51742  13.27  3.62  1.24  73.08  0.55  8.07  0.00  0.0     1\n",
       "..       ...    ...   ...   ...    ...   ...   ...   ...  ...   ...\n",
       "209  1.51623  14.14  0.00  2.88  72.61  0.08  9.18  1.06  0.0     7\n",
       "210  1.51685  14.92  0.00  1.99  73.06  0.00  8.40  1.59  0.0     7\n",
       "211  1.52065  14.36  0.00  2.02  73.42  0.00  8.44  1.64  0.0     7\n",
       "212  1.51651  14.38  0.00  1.94  73.61  0.00  8.48  1.57  0.0     7\n",
       "213  1.51711  14.23  0.00  2.08  73.36  0.00  8.62  1.67  0.0     7\n",
       "\n",
       "[214 rows x 10 columns]"
      ]
     },
     "execution_count": 2,
     "metadata": {},
     "output_type": "execute_result"
    }
   ],
   "source": [
    "glass_data = pd.read_csv('glass.csv',sep=',')\n",
    "glass_data"
   ]
  },
  {
   "cell_type": "markdown",
   "id": "6d2d083d",
   "metadata": {},
   "source": [
    "## 3. Data Understanding :"
   ]
  },
  {
   "cell_type": "markdown",
   "id": "ed84324b",
   "metadata": {},
   "source": [
    "### 3.1 Data Description:\n",
    "\n",
    "* RI : refractive index\n",
    "\n",
    "* Na: Sodium (unit measurement: weight percent in corresponding oxide, as are attributes 4-10)\n",
    "\n",
    "* Mg: Magnesium\n",
    "\n",
    "* AI: Aluminum\n",
    "\n",
    "* Si: Silicon\n",
    "\n",
    "* K:Potassium\n",
    "\n",
    "* Ca: Calcium\n",
    "\n",
    "* Ba: Barium\n",
    "\n",
    "* Fe: Iron\n",
    "\n",
    "##### Type: Type of glass: (class attribute)\n",
    "* 1 -- building_windows_float_processed\n",
    "* 2 --building_windows_non_float_processed\n",
    "* 3 --vehicle_windows_float_processed\n",
    "* 4 --vehicle_windows_non_float_processed (none in this database)\n",
    "* 5 --containers\n",
    "* 6 --tableware\n",
    "* 7 --headlamps\n"
   ]
  },
  {
   "cell_type": "markdown",
   "id": "be1aa082",
   "metadata": {},
   "source": [
    "### 3.2 Initial Analysis"
   ]
  },
  {
   "cell_type": "code",
   "execution_count": 3,
   "id": "c8de59b9",
   "metadata": {},
   "outputs": [
    {
     "data": {
      "text/plain": [
       "(214, 10)"
      ]
     },
     "execution_count": 3,
     "metadata": {},
     "output_type": "execute_result"
    }
   ],
   "source": [
    "glass_data.shape"
   ]
  },
  {
   "cell_type": "code",
   "execution_count": 4,
   "id": "3883836d",
   "metadata": {},
   "outputs": [
    {
     "data": {
      "text/plain": [
       "RI      0\n",
       "Na      0\n",
       "Mg      0\n",
       "Al      0\n",
       "Si      0\n",
       "K       0\n",
       "Ca      0\n",
       "Ba      0\n",
       "Fe      0\n",
       "Type    0\n",
       "dtype: int64"
      ]
     },
     "execution_count": 4,
     "metadata": {},
     "output_type": "execute_result"
    }
   ],
   "source": [
    "glass_data.isna().sum()"
   ]
  },
  {
   "cell_type": "code",
   "execution_count": 5,
   "id": "28c4ec56",
   "metadata": {},
   "outputs": [
    {
     "data": {
      "text/plain": [
       "RI      float64\n",
       "Na      float64\n",
       "Mg      float64\n",
       "Al      float64\n",
       "Si      float64\n",
       "K       float64\n",
       "Ca      float64\n",
       "Ba      float64\n",
       "Fe      float64\n",
       "Type      int64\n",
       "dtype: object"
      ]
     },
     "execution_count": 5,
     "metadata": {},
     "output_type": "execute_result"
    }
   ],
   "source": [
    "glass_data.dtypes"
   ]
  },
  {
   "cell_type": "markdown",
   "id": "a2c114e0",
   "metadata": {},
   "source": [
    "## 4. Data Pre-Processing :"
   ]
  },
  {
   "cell_type": "code",
   "execution_count": 6,
   "id": "ca4d8dd0",
   "metadata": {},
   "outputs": [],
   "source": [
    "X = glass_data.drop(labels='Type',axis=1)\n",
    "y = glass_data[['Type']]"
   ]
  },
  {
   "cell_type": "code",
   "execution_count": 7,
   "id": "375aac8b",
   "metadata": {},
   "outputs": [
    {
     "data": {
      "text/plain": [
       "((214, 9), (214, 1))"
      ]
     },
     "execution_count": 7,
     "metadata": {},
     "output_type": "execute_result"
    }
   ],
   "source": [
    "X.shape,y.shape"
   ]
  },
  {
   "cell_type": "code",
   "execution_count": 36,
   "id": "d343e9bf",
   "metadata": {},
   "outputs": [
    {
     "data": {
      "text/html": [
       "<div>\n",
       "<style scoped>\n",
       "    .dataframe tbody tr th:only-of-type {\n",
       "        vertical-align: middle;\n",
       "    }\n",
       "\n",
       "    .dataframe tbody tr th {\n",
       "        vertical-align: top;\n",
       "    }\n",
       "\n",
       "    .dataframe thead th {\n",
       "        text-align: right;\n",
       "    }\n",
       "</style>\n",
       "<table border=\"1\" class=\"dataframe\">\n",
       "  <thead>\n",
       "    <tr style=\"text-align: right;\">\n",
       "      <th></th>\n",
       "      <th>RI</th>\n",
       "      <th>Na</th>\n",
       "      <th>Mg</th>\n",
       "      <th>Al</th>\n",
       "      <th>Si</th>\n",
       "      <th>K</th>\n",
       "      <th>Ca</th>\n",
       "      <th>Ba</th>\n",
       "      <th>Fe</th>\n",
       "    </tr>\n",
       "  </thead>\n",
       "  <tbody>\n",
       "    <tr>\n",
       "      <th>0</th>\n",
       "      <td>0.872868</td>\n",
       "      <td>0.284953</td>\n",
       "      <td>1.254639</td>\n",
       "      <td>-0.692442</td>\n",
       "      <td>-1.127082</td>\n",
       "      <td>-0.671705</td>\n",
       "      <td>-0.145766</td>\n",
       "      <td>-0.352877</td>\n",
       "      <td>-0.586451</td>\n",
       "    </tr>\n",
       "    <tr>\n",
       "      <th>1</th>\n",
       "      <td>-0.249333</td>\n",
       "      <td>0.591817</td>\n",
       "      <td>0.636168</td>\n",
       "      <td>-0.170460</td>\n",
       "      <td>0.102319</td>\n",
       "      <td>-0.026213</td>\n",
       "      <td>-0.793734</td>\n",
       "      <td>-0.352877</td>\n",
       "      <td>-0.586451</td>\n",
       "    </tr>\n",
       "    <tr>\n",
       "      <th>2</th>\n",
       "      <td>-0.721318</td>\n",
       "      <td>0.149933</td>\n",
       "      <td>0.601422</td>\n",
       "      <td>0.190912</td>\n",
       "      <td>0.438787</td>\n",
       "      <td>-0.164533</td>\n",
       "      <td>-0.828949</td>\n",
       "      <td>-0.352877</td>\n",
       "      <td>-0.586451</td>\n",
       "    </tr>\n",
       "    <tr>\n",
       "      <th>3</th>\n",
       "      <td>-0.232831</td>\n",
       "      <td>-0.242853</td>\n",
       "      <td>0.698710</td>\n",
       "      <td>-0.310994</td>\n",
       "      <td>-0.052974</td>\n",
       "      <td>0.112107</td>\n",
       "      <td>-0.519052</td>\n",
       "      <td>-0.352877</td>\n",
       "      <td>-0.586451</td>\n",
       "    </tr>\n",
       "    <tr>\n",
       "      <th>4</th>\n",
       "      <td>-0.312045</td>\n",
       "      <td>-0.169205</td>\n",
       "      <td>0.650066</td>\n",
       "      <td>-0.411375</td>\n",
       "      <td>0.555256</td>\n",
       "      <td>0.081369</td>\n",
       "      <td>-0.624699</td>\n",
       "      <td>-0.352877</td>\n",
       "      <td>-0.586451</td>\n",
       "    </tr>\n",
       "    <tr>\n",
       "      <th>...</th>\n",
       "      <td>...</td>\n",
       "      <td>...</td>\n",
       "      <td>...</td>\n",
       "      <td>...</td>\n",
       "      <td>...</td>\n",
       "      <td>...</td>\n",
       "      <td>...</td>\n",
       "      <td>...</td>\n",
       "      <td>...</td>\n",
       "    </tr>\n",
       "    <tr>\n",
       "      <th>209</th>\n",
       "      <td>-0.704815</td>\n",
       "      <td>0.898681</td>\n",
       "      <td>-1.865511</td>\n",
       "      <td>2.881125</td>\n",
       "      <td>-0.052974</td>\n",
       "      <td>-0.640968</td>\n",
       "      <td>0.157088</td>\n",
       "      <td>1.783978</td>\n",
       "      <td>-0.586451</td>\n",
       "    </tr>\n",
       "    <tr>\n",
       "      <th>210</th>\n",
       "      <td>-0.500178</td>\n",
       "      <td>1.856097</td>\n",
       "      <td>-1.865511</td>\n",
       "      <td>1.094342</td>\n",
       "      <td>0.529374</td>\n",
       "      <td>-0.763919</td>\n",
       "      <td>-0.392276</td>\n",
       "      <td>2.852405</td>\n",
       "      <td>-0.586451</td>\n",
       "    </tr>\n",
       "    <tr>\n",
       "      <th>211</th>\n",
       "      <td>0.754046</td>\n",
       "      <td>1.168721</td>\n",
       "      <td>-1.865511</td>\n",
       "      <td>1.154570</td>\n",
       "      <td>0.995252</td>\n",
       "      <td>-0.763919</td>\n",
       "      <td>-0.364103</td>\n",
       "      <td>2.953200</td>\n",
       "      <td>-0.586451</td>\n",
       "    </tr>\n",
       "    <tr>\n",
       "      <th>212</th>\n",
       "      <td>-0.612399</td>\n",
       "      <td>1.193270</td>\n",
       "      <td>-1.865511</td>\n",
       "      <td>0.993960</td>\n",
       "      <td>1.241133</td>\n",
       "      <td>-0.763919</td>\n",
       "      <td>-0.335931</td>\n",
       "      <td>2.812087</td>\n",
       "      <td>-0.586451</td>\n",
       "    </tr>\n",
       "    <tr>\n",
       "      <th>213</th>\n",
       "      <td>-0.414363</td>\n",
       "      <td>1.009152</td>\n",
       "      <td>-1.865511</td>\n",
       "      <td>1.275028</td>\n",
       "      <td>0.917606</td>\n",
       "      <td>-0.763919</td>\n",
       "      <td>-0.237327</td>\n",
       "      <td>3.013677</td>\n",
       "      <td>-0.586451</td>\n",
       "    </tr>\n",
       "  </tbody>\n",
       "</table>\n",
       "<p>214 rows × 9 columns</p>\n",
       "</div>"
      ],
      "text/plain": [
       "           RI        Na        Mg        Al        Si         K        Ca  \\\n",
       "0    0.872868  0.284953  1.254639 -0.692442 -1.127082 -0.671705 -0.145766   \n",
       "1   -0.249333  0.591817  0.636168 -0.170460  0.102319 -0.026213 -0.793734   \n",
       "2   -0.721318  0.149933  0.601422  0.190912  0.438787 -0.164533 -0.828949   \n",
       "3   -0.232831 -0.242853  0.698710 -0.310994 -0.052974  0.112107 -0.519052   \n",
       "4   -0.312045 -0.169205  0.650066 -0.411375  0.555256  0.081369 -0.624699   \n",
       "..        ...       ...       ...       ...       ...       ...       ...   \n",
       "209 -0.704815  0.898681 -1.865511  2.881125 -0.052974 -0.640968  0.157088   \n",
       "210 -0.500178  1.856097 -1.865511  1.094342  0.529374 -0.763919 -0.392276   \n",
       "211  0.754046  1.168721 -1.865511  1.154570  0.995252 -0.763919 -0.364103   \n",
       "212 -0.612399  1.193270 -1.865511  0.993960  1.241133 -0.763919 -0.335931   \n",
       "213 -0.414363  1.009152 -1.865511  1.275028  0.917606 -0.763919 -0.237327   \n",
       "\n",
       "           Ba        Fe  \n",
       "0   -0.352877 -0.586451  \n",
       "1   -0.352877 -0.586451  \n",
       "2   -0.352877 -0.586451  \n",
       "3   -0.352877 -0.586451  \n",
       "4   -0.352877 -0.586451  \n",
       "..        ...       ...  \n",
       "209  1.783978 -0.586451  \n",
       "210  2.852405 -0.586451  \n",
       "211  2.953200 -0.586451  \n",
       "212  2.812087 -0.586451  \n",
       "213  3.013677 -0.586451  \n",
       "\n",
       "[214 rows x 9 columns]"
      ]
     },
     "execution_count": 36,
     "metadata": {},
     "output_type": "execute_result"
    }
   ],
   "source": [
    "from sklearn.preprocessing import StandardScaler\n",
    "std_scaler = StandardScaler()\n",
    "x_scaled = std_scaler.fit_transform(X)\n",
    "scaled_x = pd.DataFrame(data =x_scaled,columns=X.columns)\n",
    "scaled_x"
   ]
  },
  {
   "cell_type": "markdown",
   "id": "0f45856e",
   "metadata": {},
   "source": [
    "## 5. Model Building :"
   ]
  },
  {
   "cell_type": "code",
   "execution_count": 37,
   "id": "654900dd",
   "metadata": {},
   "outputs": [],
   "source": [
    "from sklearn.model_selection import train_test_split\n",
    "X_train,X_test,y_train,y_test = train_test_split(scaled_x,y,test_size=0.25,random_state=12,shuffle=True,stratify=y)"
   ]
  },
  {
   "cell_type": "code",
   "execution_count": 38,
   "id": "a55b69be",
   "metadata": {},
   "outputs": [
    {
     "data": {
      "text/plain": [
       "((160, 9), (160, 1))"
      ]
     },
     "execution_count": 38,
     "metadata": {},
     "output_type": "execute_result"
    }
   ],
   "source": [
    "X_train.shape,y_train.shape"
   ]
  },
  {
   "cell_type": "code",
   "execution_count": 39,
   "id": "d14ffcb2",
   "metadata": {},
   "outputs": [
    {
     "data": {
      "text/plain": [
       "((54, 9), (54, 1))"
      ]
     },
     "execution_count": 39,
     "metadata": {},
     "output_type": "execute_result"
    }
   ],
   "source": [
    "X_test.shape,y_test.shape"
   ]
  },
  {
   "cell_type": "markdown",
   "id": "0e2cc90c",
   "metadata": {},
   "source": [
    "## 6. Model Training | Testing | Evaluation"
   ]
  },
  {
   "cell_type": "code",
   "execution_count": 40,
   "id": "36c0b1fb",
   "metadata": {},
   "outputs": [],
   "source": [
    "from sklearn.neighbors import KNeighborsClassifier\n",
    "from sklearn.metrics import accuracy_score,classification_report"
   ]
  },
  {
   "cell_type": "markdown",
   "id": "1a16b5c7",
   "metadata": {},
   "source": [
    "### for k=3"
   ]
  },
  {
   "cell_type": "code",
   "execution_count": 41,
   "id": "a149e32e",
   "metadata": {},
   "outputs": [
    {
     "name": "stdout",
     "output_type": "stream",
     "text": [
      "Train Accuracy Score : 0.8125\n",
      "Training Classification Report :\n",
      "               precision    recall  f1-score   support\n",
      "\n",
      "           1       0.76      0.92      0.83        52\n",
      "           2       0.82      0.88      0.85        57\n",
      "           3       0.75      0.23      0.35        13\n",
      "           5       0.83      0.50      0.62        10\n",
      "           6       1.00      0.71      0.83         7\n",
      "           7       0.90      0.90      0.90        21\n",
      "\n",
      "    accuracy                           0.81       160\n",
      "   macro avg       0.84      0.69      0.73       160\n",
      "weighted avg       0.82      0.81      0.80       160\n",
      "\n",
      "Test Accuracy Score : 0.7593\n",
      "Test Classification Report :\n",
      "               precision    recall  f1-score   support\n",
      "\n",
      "           1       0.59      0.89      0.71        18\n",
      "           2       0.87      0.68      0.76        19\n",
      "           3       0.00      0.00      0.00         4\n",
      "           5       1.00      1.00      1.00         3\n",
      "           6       1.00      1.00      1.00         2\n",
      "           7       1.00      0.88      0.93         8\n",
      "\n",
      "    accuracy                           0.76        54\n",
      "   macro avg       0.74      0.74      0.73        54\n",
      "weighted avg       0.74      0.76      0.74        54\n",
      "\n"
     ]
    }
   ],
   "source": [
    "knn_classifier = KNeighborsClassifier(n_neighbors=3,)\n",
    "knn_classifier.fit(X_train,y_train)\n",
    "y_predict_train_1 = knn_classifier.predict(X_train)\n",
    "y_predict_test_1 = knn_classifier.predict(X_test)\n",
    "\n",
    "print('Train Accuracy Score :',round(accuracy_score(y_train,y_predict_train_1),4))\n",
    "print('Training Classification Report :\\n',classification_report(y_train,y_predict_train_1))\n",
    "print('Test Accuracy Score :',round(accuracy_score(y_test,y_predict_test_1),4))\n",
    "print('Test Classification Report :\\n',classification_report(y_test,y_predict_test_1))"
   ]
  },
  {
   "cell_type": "markdown",
   "id": "4e2a0477",
   "metadata": {},
   "source": [
    "### for k = 5"
   ]
  },
  {
   "cell_type": "code",
   "execution_count": 42,
   "id": "0939105a",
   "metadata": {},
   "outputs": [
    {
     "name": "stdout",
     "output_type": "stream",
     "text": [
      "Train Accuracy Score : 1.0\n",
      "Training Classification Report :\n",
      "               precision    recall  f1-score   support\n",
      "\n",
      "           1       1.00      1.00      1.00        52\n",
      "           2       1.00      1.00      1.00        57\n",
      "           3       1.00      1.00      1.00        13\n",
      "           5       1.00      1.00      1.00        10\n",
      "           6       1.00      1.00      1.00         7\n",
      "           7       1.00      1.00      1.00        21\n",
      "\n",
      "    accuracy                           1.00       160\n",
      "   macro avg       1.00      1.00      1.00       160\n",
      "weighted avg       1.00      1.00      1.00       160\n",
      "\n",
      "Test Accuracy Score : 0.7222\n",
      "Test Classification Report :\n",
      "               precision    recall  f1-score   support\n",
      "\n",
      "           1       0.60      0.83      0.70        18\n",
      "           2       0.71      0.63      0.67        19\n",
      "           3       0.00      0.00      0.00         4\n",
      "           5       1.00      1.00      1.00         3\n",
      "           6       1.00      1.00      1.00         2\n",
      "           7       1.00      0.88      0.93         8\n",
      "\n",
      "    accuracy                           0.72        54\n",
      "   macro avg       0.72      0.72      0.72        54\n",
      "weighted avg       0.69      0.72      0.70        54\n",
      "\n"
     ]
    }
   ],
   "source": [
    "knn_classifier = KNeighborsClassifier(n_neighbors=5,n_jobs=-1,algorithm='kd_tree',weights='distance')\n",
    "knn_classifier.fit(X_train,y_train)\n",
    "y_predict_train_2 = knn_classifier.predict(X_train)\n",
    "y_predict_test_2 = knn_classifier.predict(X_test)\n",
    "\n",
    "print('Train Accuracy Score :',round(accuracy_score(y_train,y_predict_train_2),4))\n",
    "print('Training Classification Report :\\n',classification_report(y_train,y_predict_train_2))\n",
    "print('Test Accuracy Score :',round(accuracy_score(y_test,y_predict_test_2),4))\n",
    "print('Test Classification Report :\\n',classification_report(y_test,y_predict_test_2))"
   ]
  },
  {
   "cell_type": "markdown",
   "id": "5b2d3185",
   "metadata": {},
   "source": [
    "### for k = 7"
   ]
  },
  {
   "cell_type": "code",
   "execution_count": 43,
   "id": "a6c76a71",
   "metadata": {},
   "outputs": [
    {
     "name": "stdout",
     "output_type": "stream",
     "text": [
      "Train Accuracy Score : 0.7\n",
      "Training Classification Report :\n",
      "               precision    recall  f1-score   support\n",
      "\n",
      "           1       0.63      0.87      0.73        52\n",
      "           2       0.69      0.74      0.71        57\n",
      "           3       0.00      0.00      0.00        13\n",
      "           5       0.75      0.30      0.43        10\n",
      "           6       1.00      0.57      0.73         7\n",
      "           7       0.90      0.86      0.88        21\n",
      "\n",
      "    accuracy                           0.70       160\n",
      "   macro avg       0.66      0.56      0.58       160\n",
      "weighted avg       0.66      0.70      0.67       160\n",
      "\n",
      "Test Accuracy Score : 0.6852\n",
      "Test Classification Report :\n",
      "               precision    recall  f1-score   support\n",
      "\n",
      "           1       0.58      0.83      0.68        18\n",
      "           2       0.72      0.68      0.70        19\n",
      "           3       0.00      0.00      0.00         4\n",
      "           5       1.00      0.33      0.50         3\n",
      "           6       1.00      0.50      0.67         2\n",
      "           7       0.88      0.88      0.88         8\n",
      "\n",
      "    accuracy                           0.69        54\n",
      "   macro avg       0.70      0.54      0.57        54\n",
      "weighted avg       0.67      0.69      0.66        54\n",
      "\n"
     ]
    }
   ],
   "source": [
    "knn_classifier = KNeighborsClassifier(n_neighbors=7,)\n",
    "knn_classifier.fit(X_train,y_train)\n",
    "y_predict_train_3 = knn_classifier.predict(X_train)\n",
    "y_predict_test_3 = knn_classifier.predict(X_test)\n",
    "\n",
    "print('Train Accuracy Score :',round(accuracy_score(y_train,y_predict_train_3),4))\n",
    "print('Training Classification Report :\\n',classification_report(y_train,y_predict_train_3))\n",
    "print('Test Accuracy Score :',round(accuracy_score(y_test,y_predict_test_3),4))\n",
    "print('Test Classification Report :\\n',classification_report(y_test,y_predict_test_3))"
   ]
  },
  {
   "cell_type": "markdown",
   "id": "cbaaf805",
   "metadata": {},
   "source": [
    "## ----------------------------------------------------------------------------------------------------------------------------"
   ]
  },
  {
   "cell_type": "markdown",
   "id": "090b3335",
   "metadata": {},
   "source": [
    "### How to choose optimal number of neigbours :"
   ]
  },
  {
   "cell_type": "code",
   "execution_count": 44,
   "id": "01988dc2",
   "metadata": {},
   "outputs": [],
   "source": [
    "from sklearn.model_selection import cross_val_score"
   ]
  },
  {
   "cell_type": "code",
   "execution_count": 45,
   "id": "79a79c53",
   "metadata": {},
   "outputs": [],
   "source": [
    "cv_scores= []\n",
    "training_accuracy = []\n",
    "test_accuracy =[]\n",
    "\n",
    "for i in range(1,30,2):\n",
    "    knn_model = KNeighborsClassifier(n_neighbors= i,)\n",
    "    cross_validation_scored = cross_val_score(estimator=knn_model, X= scaled_x,y=y,cv=5)\n",
    "    knn_model.fit(scaled_x,y)\n",
    "    training_accuracy.append(knn_model.score(X_train,y_train))\n",
    "    test_accuracy.append(knn_model.score(X_test,y_test))\n",
    "    cv_scores.append(cross_validation_scored.mean())"
   ]
  },
  {
   "cell_type": "code",
   "execution_count": 46,
   "id": "8ba5ac4c",
   "metadata": {},
   "outputs": [
    {
     "data": {
      "text/plain": [
       "1"
      ]
     },
     "execution_count": 46,
     "metadata": {},
     "output_type": "execute_result"
    }
   ],
   "source": [
    "cv_scores.index(max(cv_scores))"
   ]
  },
  {
   "cell_type": "code",
   "execution_count": 47,
   "id": "59db9f59",
   "metadata": {},
   "outputs": [
    {
     "data": {
      "text/html": [
       "<div>\n",
       "<style scoped>\n",
       "    .dataframe tbody tr th:only-of-type {\n",
       "        vertical-align: middle;\n",
       "    }\n",
       "\n",
       "    .dataframe tbody tr th {\n",
       "        vertical-align: top;\n",
       "    }\n",
       "\n",
       "    .dataframe thead th {\n",
       "        text-align: right;\n",
       "    }\n",
       "</style>\n",
       "<table border=\"1\" class=\"dataframe\">\n",
       "  <thead>\n",
       "    <tr style=\"text-align: right;\">\n",
       "      <th></th>\n",
       "      <th>cv_scores</th>\n",
       "      <th>training_accuracy</th>\n",
       "      <th>test_accuracy</th>\n",
       "    </tr>\n",
       "  </thead>\n",
       "  <tbody>\n",
       "    <tr>\n",
       "      <th>0</th>\n",
       "      <td>0.621262</td>\n",
       "      <td>1.00000</td>\n",
       "      <td>1.000000</td>\n",
       "    </tr>\n",
       "    <tr>\n",
       "      <th>1</th>\n",
       "      <td>0.649834</td>\n",
       "      <td>0.81875</td>\n",
       "      <td>0.907407</td>\n",
       "    </tr>\n",
       "    <tr>\n",
       "      <th>2</th>\n",
       "      <td>0.649723</td>\n",
       "      <td>0.76250</td>\n",
       "      <td>0.851852</td>\n",
       "    </tr>\n",
       "    <tr>\n",
       "      <th>3</th>\n",
       "      <td>0.621595</td>\n",
       "      <td>0.68750</td>\n",
       "      <td>0.759259</td>\n",
       "    </tr>\n",
       "    <tr>\n",
       "      <th>4</th>\n",
       "      <td>0.616944</td>\n",
       "      <td>0.72500</td>\n",
       "      <td>0.722222</td>\n",
       "    </tr>\n",
       "    <tr>\n",
       "      <th>5</th>\n",
       "      <td>0.598228</td>\n",
       "      <td>0.68750</td>\n",
       "      <td>0.722222</td>\n",
       "    </tr>\n",
       "    <tr>\n",
       "      <th>6</th>\n",
       "      <td>0.598228</td>\n",
       "      <td>0.70625</td>\n",
       "      <td>0.722222</td>\n",
       "    </tr>\n",
       "    <tr>\n",
       "      <th>7</th>\n",
       "      <td>0.570321</td>\n",
       "      <td>0.66875</td>\n",
       "      <td>0.703704</td>\n",
       "    </tr>\n",
       "    <tr>\n",
       "      <th>8</th>\n",
       "      <td>0.584385</td>\n",
       "      <td>0.66250</td>\n",
       "      <td>0.685185</td>\n",
       "    </tr>\n",
       "    <tr>\n",
       "      <th>9</th>\n",
       "      <td>0.589037</td>\n",
       "      <td>0.66250</td>\n",
       "      <td>0.685185</td>\n",
       "    </tr>\n",
       "    <tr>\n",
       "      <th>10</th>\n",
       "      <td>0.565670</td>\n",
       "      <td>0.66875</td>\n",
       "      <td>0.722222</td>\n",
       "    </tr>\n",
       "    <tr>\n",
       "      <th>11</th>\n",
       "      <td>0.570432</td>\n",
       "      <td>0.62500</td>\n",
       "      <td>0.703704</td>\n",
       "    </tr>\n",
       "    <tr>\n",
       "      <th>12</th>\n",
       "      <td>0.579734</td>\n",
       "      <td>0.64375</td>\n",
       "      <td>0.703704</td>\n",
       "    </tr>\n",
       "    <tr>\n",
       "      <th>13</th>\n",
       "      <td>0.579845</td>\n",
       "      <td>0.66250</td>\n",
       "      <td>0.666667</td>\n",
       "    </tr>\n",
       "    <tr>\n",
       "      <th>14</th>\n",
       "      <td>0.565891</td>\n",
       "      <td>0.63750</td>\n",
       "      <td>0.648148</td>\n",
       "    </tr>\n",
       "  </tbody>\n",
       "</table>\n",
       "</div>"
      ],
      "text/plain": [
       "    cv_scores  training_accuracy  test_accuracy\n",
       "0    0.621262            1.00000       1.000000\n",
       "1    0.649834            0.81875       0.907407\n",
       "2    0.649723            0.76250       0.851852\n",
       "3    0.621595            0.68750       0.759259\n",
       "4    0.616944            0.72500       0.722222\n",
       "5    0.598228            0.68750       0.722222\n",
       "6    0.598228            0.70625       0.722222\n",
       "7    0.570321            0.66875       0.703704\n",
       "8    0.584385            0.66250       0.685185\n",
       "9    0.589037            0.66250       0.685185\n",
       "10   0.565670            0.66875       0.722222\n",
       "11   0.570432            0.62500       0.703704\n",
       "12   0.579734            0.64375       0.703704\n",
       "13   0.579845            0.66250       0.666667\n",
       "14   0.565891            0.63750       0.648148"
      ]
     },
     "execution_count": 47,
     "metadata": {},
     "output_type": "execute_result"
    }
   ],
   "source": [
    "import numpy as np\n",
    "cv_score_array = np.array(cv_scores)\n",
    "training_accuracy_array = np.array(training_accuracy)\n",
    "test_accuracy_array = np.array(test_accuracy)\n",
    "classification_report_array = np.array(classification_report)\n",
    "\n",
    "scores = {'cv_scores': cv_score_array,\n",
    "         'training_accuracy':training_accuracy_array,\n",
    "         'test_accuracy':test_accuracy_array}\n",
    "pd.DataFrame(scores)"
   ]
  },
  {
   "cell_type": "markdown",
   "id": "e3a3576a",
   "metadata": {},
   "source": [
    "### using visuals:"
   ]
  },
  {
   "cell_type": "code",
   "execution_count": 48,
   "id": "a6e9684c",
   "metadata": {},
   "outputs": [],
   "source": [
    "import matplotlib.pyplot as plt"
   ]
  },
  {
   "cell_type": "code",
   "execution_count": 49,
   "id": "ce9ac2c3",
   "metadata": {},
   "outputs": [
    {
     "data": {
      "image/png": "[encoded data removed]",
      "text/plain": [
       "<Figure size 1080x576 with 1 Axes>"
      ]
     },
     "metadata": {
      "needs_background": "light"
     },
     "output_type": "display_data"
    }
   ],
   "source": [
    "plt.figure(figsize=(15,8))\n",
    "plt.plot(range(1,31,2),cv_scores,label = 'CV_Score')\n",
    "plt.plot(range(1,31,2),training_accuracy,label = 'Training_Accuracy')\n",
    "plt.plot(range(1,31,2),test_accuracy,label = 'Test_Accuracy')\n",
    "plt.title('KNN-neighbours graph - CV_Score vs Training_Accuracy vs Test_Accuracy',fontsize=16)\n",
    "plt.legend()\n",
    "plt.xlabel('Neighbours')\n",
    "plt.ylabel('Mean Accuracy')\n",
    "plt.show()"
   ]
  },
  {
   "cell_type": "markdown",
   "id": "2043c1b7",
   "metadata": {},
   "source": [
    "### Prediction using params :"
   ]
  },
  {
   "cell_type": "code",
   "execution_count": 50,
   "id": "ed6aace0",
   "metadata": {},
   "outputs": [],
   "source": [
    "cv_scores= []\n",
    "training_accuracy = []\n",
    "test_accuracy =[]\n",
    "\n",
    "for i in range(1,30,2):\n",
    "    knn_model = KNeighborsClassifier(n_neighbors= i,algorithm='brute',weights='uniform',n_jobs=1)\n",
    "    cross_validation_scored = cross_val_score(estimator=knn_model, X= scaled_x,y=y,cv=7)\n",
    "    knn_model.fit(scaled_x,y)\n",
    "    training_accuracy.append(knn_model.score(X_train,y_train))\n",
    "    test_accuracy.append(knn_model.score(X_test,y_test))\n",
    "    cv_scores.append(cross_validation_scored.mean())"
   ]
  },
  {
   "cell_type": "code",
   "execution_count": 51,
   "id": "cc17a984",
   "metadata": {},
   "outputs": [
    {
     "data": {
      "text/plain": [
       "1"
      ]
     },
     "execution_count": 51,
     "metadata": {},
     "output_type": "execute_result"
    }
   ],
   "source": [
    "cv_scores.index(max(cv_scores))"
   ]
  },
  {
   "cell_type": "code",
   "execution_count": 52,
   "id": "2f5b582a",
   "metadata": {},
   "outputs": [
    {
     "data": {
      "text/html": [
       "<div>\n",
       "<style scoped>\n",
       "    .dataframe tbody tr th:only-of-type {\n",
       "        vertical-align: middle;\n",
       "    }\n",
       "\n",
       "    .dataframe tbody tr th {\n",
       "        vertical-align: top;\n",
       "    }\n",
       "\n",
       "    .dataframe thead th {\n",
       "        text-align: right;\n",
       "    }\n",
       "</style>\n",
       "<table border=\"1\" class=\"dataframe\">\n",
       "  <thead>\n",
       "    <tr style=\"text-align: right;\">\n",
       "      <th></th>\n",
       "      <th>cv_scores</th>\n",
       "      <th>training_accuracy</th>\n",
       "      <th>test_accuracy</th>\n",
       "    </tr>\n",
       "  </thead>\n",
       "  <tbody>\n",
       "    <tr>\n",
       "      <th>0</th>\n",
       "      <td>0.635330</td>\n",
       "      <td>1.00000</td>\n",
       "      <td>1.000000</td>\n",
       "    </tr>\n",
       "    <tr>\n",
       "      <th>1</th>\n",
       "      <td>0.659140</td>\n",
       "      <td>0.81875</td>\n",
       "      <td>0.907407</td>\n",
       "    </tr>\n",
       "    <tr>\n",
       "      <th>2</th>\n",
       "      <td>0.649770</td>\n",
       "      <td>0.76250</td>\n",
       "      <td>0.851852</td>\n",
       "    </tr>\n",
       "    <tr>\n",
       "      <th>3</th>\n",
       "      <td>0.630876</td>\n",
       "      <td>0.68750</td>\n",
       "      <td>0.759259</td>\n",
       "    </tr>\n",
       "    <tr>\n",
       "      <th>4</th>\n",
       "      <td>0.602919</td>\n",
       "      <td>0.72500</td>\n",
       "      <td>0.722222</td>\n",
       "    </tr>\n",
       "    <tr>\n",
       "      <th>5</th>\n",
       "      <td>0.588633</td>\n",
       "      <td>0.68750</td>\n",
       "      <td>0.722222</td>\n",
       "    </tr>\n",
       "    <tr>\n",
       "      <th>6</th>\n",
       "      <td>0.602919</td>\n",
       "      <td>0.70625</td>\n",
       "      <td>0.722222</td>\n",
       "    </tr>\n",
       "    <tr>\n",
       "      <th>7</th>\n",
       "      <td>0.593548</td>\n",
       "      <td>0.66875</td>\n",
       "      <td>0.703704</td>\n",
       "    </tr>\n",
       "    <tr>\n",
       "      <th>8</th>\n",
       "      <td>0.589247</td>\n",
       "      <td>0.66250</td>\n",
       "      <td>0.685185</td>\n",
       "    </tr>\n",
       "    <tr>\n",
       "      <th>9</th>\n",
       "      <td>0.593702</td>\n",
       "      <td>0.66250</td>\n",
       "      <td>0.685185</td>\n",
       "    </tr>\n",
       "    <tr>\n",
       "      <th>10</th>\n",
       "      <td>0.575115</td>\n",
       "      <td>0.66875</td>\n",
       "      <td>0.722222</td>\n",
       "    </tr>\n",
       "    <tr>\n",
       "      <th>11</th>\n",
       "      <td>0.565745</td>\n",
       "      <td>0.62500</td>\n",
       "      <td>0.703704</td>\n",
       "    </tr>\n",
       "    <tr>\n",
       "      <th>12</th>\n",
       "      <td>0.561290</td>\n",
       "      <td>0.64375</td>\n",
       "      <td>0.703704</td>\n",
       "    </tr>\n",
       "    <tr>\n",
       "      <th>13</th>\n",
       "      <td>0.547158</td>\n",
       "      <td>0.66250</td>\n",
       "      <td>0.666667</td>\n",
       "    </tr>\n",
       "    <tr>\n",
       "      <th>14</th>\n",
       "      <td>0.542704</td>\n",
       "      <td>0.63750</td>\n",
       "      <td>0.648148</td>\n",
       "    </tr>\n",
       "  </tbody>\n",
       "</table>\n",
       "</div>"
      ],
      "text/plain": [
       "    cv_scores  training_accuracy  test_accuracy\n",
       "0    0.635330            1.00000       1.000000\n",
       "1    0.659140            0.81875       0.907407\n",
       "2    0.649770            0.76250       0.851852\n",
       "3    0.630876            0.68750       0.759259\n",
       "4    0.602919            0.72500       0.722222\n",
       "5    0.588633            0.68750       0.722222\n",
       "6    0.602919            0.70625       0.722222\n",
       "7    0.593548            0.66875       0.703704\n",
       "8    0.589247            0.66250       0.685185\n",
       "9    0.593702            0.66250       0.685185\n",
       "10   0.575115            0.66875       0.722222\n",
       "11   0.565745            0.62500       0.703704\n",
       "12   0.561290            0.64375       0.703704\n",
       "13   0.547158            0.66250       0.666667\n",
       "14   0.542704            0.63750       0.648148"
      ]
     },
     "execution_count": 52,
     "metadata": {},
     "output_type": "execute_result"
    }
   ],
   "source": [
    "import numpy as np\n",
    "cv_score_array = np.array(cv_scores)\n",
    "training_accuracy_array = np.array(training_accuracy)\n",
    "test_accuracy_array = np.array(test_accuracy)\n",
    "classification_report_array = np.array(classification_report)\n",
    "\n",
    "scores = {'cv_scores': cv_score_array,\n",
    "         'training_accuracy':training_accuracy_array,\n",
    "         'test_accuracy':test_accuracy_array}\n",
    "pd.DataFrame(scores)"
   ]
  },
  {
   "cell_type": "code",
   "execution_count": 53,
   "id": "f4f40a55",
   "metadata": {},
   "outputs": [
    {
     "data": {
      "image/png": "[encoded data removed]",
      "text/plain": [
       "<Figure size 1080x576 with 1 Axes>"
      ]
     },
     "metadata": {
      "needs_background": "light"
     },
     "output_type": "display_data"
    }
   ],
   "source": [
    "plt.figure(figsize=(15,8))\n",
    "plt.plot(range(1,31,2),cv_scores,label = 'CV_Score')\n",
    "plt.plot(range(1,31,2),training_accuracy,label = 'Training_Accuracy')\n",
    "plt.plot(range(1,31,2),test_accuracy,label = 'Test_Accuracy')\n",
    "plt.title('KNN-neighbours graph - CV_Score vs Training_Accuracy vs Test_Accuracy',fontsize=16)\n",
    "plt.legend()\n",
    "plt.xlabel('Neighbours')\n",
    "plt.ylabel('Mean Accuracy')\n",
    "plt.show()"
   ]
  },
  {
   "cell_type": "code",
   "execution_count": 54,
   "id": "fe6326e2",
   "metadata": {},
   "outputs": [],
   "source": [
    "cv_scores= []\n",
    "training_accuracy = []\n",
    "test_accuracy =[]\n",
    "\n",
    "for i in range(1,30,2):\n",
    "    knn_model = KNeighborsClassifier(n_neighbors= i,algorithm='ball_tree',weights='uniform',n_jobs=-1)\n",
    "    cross_validation_scored = cross_val_score(estimator=knn_model, X= scaled_x,y=y,cv=10)\n",
    "    knn_model.fit(scaled_x,y)\n",
    "    training_accuracy.append(knn_model.score(X_train,y_train))\n",
    "    test_accuracy.append(knn_model.score(X_test,y_test))\n",
    "    cv_scores.append(cross_validation_scored.mean())"
   ]
  },
  {
   "cell_type": "code",
   "execution_count": 55,
   "id": "3038e0f5",
   "metadata": {},
   "outputs": [
    {
     "data": {
      "text/html": [
       "<div>\n",
       "<style scoped>\n",
       "    .dataframe tbody tr th:only-of-type {\n",
       "        vertical-align: middle;\n",
       "    }\n",
       "\n",
       "    .dataframe tbody tr th {\n",
       "        vertical-align: top;\n",
       "    }\n",
       "\n",
       "    .dataframe thead th {\n",
       "        text-align: right;\n",
       "    }\n",
       "</style>\n",
       "<table border=\"1\" class=\"dataframe\">\n",
       "  <thead>\n",
       "    <tr style=\"text-align: right;\">\n",
       "      <th></th>\n",
       "      <th>cv_scores</th>\n",
       "      <th>training_accuracy</th>\n",
       "      <th>test_accuracy</th>\n",
       "    </tr>\n",
       "  </thead>\n",
       "  <tbody>\n",
       "    <tr>\n",
       "      <th>0</th>\n",
       "      <td>0.658225</td>\n",
       "      <td>1.00000</td>\n",
       "      <td>1.000000</td>\n",
       "    </tr>\n",
       "    <tr>\n",
       "      <th>1</th>\n",
       "      <td>0.691126</td>\n",
       "      <td>0.81875</td>\n",
       "      <td>0.907407</td>\n",
       "    </tr>\n",
       "    <tr>\n",
       "      <th>2</th>\n",
       "      <td>0.663203</td>\n",
       "      <td>0.76250</td>\n",
       "      <td>0.851852</td>\n",
       "    </tr>\n",
       "    <tr>\n",
       "      <th>3</th>\n",
       "      <td>0.625758</td>\n",
       "      <td>0.68750</td>\n",
       "      <td>0.759259</td>\n",
       "    </tr>\n",
       "    <tr>\n",
       "      <th>4</th>\n",
       "      <td>0.620996</td>\n",
       "      <td>0.72500</td>\n",
       "      <td>0.722222</td>\n",
       "    </tr>\n",
       "    <tr>\n",
       "      <th>5</th>\n",
       "      <td>0.616234</td>\n",
       "      <td>0.68750</td>\n",
       "      <td>0.722222</td>\n",
       "    </tr>\n",
       "    <tr>\n",
       "      <th>6</th>\n",
       "      <td>0.602381</td>\n",
       "      <td>0.70625</td>\n",
       "      <td>0.722222</td>\n",
       "    </tr>\n",
       "    <tr>\n",
       "      <th>7</th>\n",
       "      <td>0.592857</td>\n",
       "      <td>0.66875</td>\n",
       "      <td>0.703704</td>\n",
       "    </tr>\n",
       "    <tr>\n",
       "      <th>8</th>\n",
       "      <td>0.583766</td>\n",
       "      <td>0.66250</td>\n",
       "      <td>0.685185</td>\n",
       "    </tr>\n",
       "    <tr>\n",
       "      <th>9</th>\n",
       "      <td>0.593290</td>\n",
       "      <td>0.66250</td>\n",
       "      <td>0.685185</td>\n",
       "    </tr>\n",
       "    <tr>\n",
       "      <th>10</th>\n",
       "      <td>0.584416</td>\n",
       "      <td>0.66875</td>\n",
       "      <td>0.722222</td>\n",
       "    </tr>\n",
       "    <tr>\n",
       "      <th>11</th>\n",
       "      <td>0.565584</td>\n",
       "      <td>0.62500</td>\n",
       "      <td>0.703704</td>\n",
       "    </tr>\n",
       "    <tr>\n",
       "      <th>12</th>\n",
       "      <td>0.579654</td>\n",
       "      <td>0.64375</td>\n",
       "      <td>0.703704</td>\n",
       "    </tr>\n",
       "    <tr>\n",
       "      <th>13</th>\n",
       "      <td>0.583983</td>\n",
       "      <td>0.66250</td>\n",
       "      <td>0.666667</td>\n",
       "    </tr>\n",
       "    <tr>\n",
       "      <th>14</th>\n",
       "      <td>0.579437</td>\n",
       "      <td>0.63750</td>\n",
       "      <td>0.648148</td>\n",
       "    </tr>\n",
       "  </tbody>\n",
       "</table>\n",
       "</div>"
      ],
      "text/plain": [
       "    cv_scores  training_accuracy  test_accuracy\n",
       "0    0.658225            1.00000       1.000000\n",
       "1    0.691126            0.81875       0.907407\n",
       "2    0.663203            0.76250       0.851852\n",
       "3    0.625758            0.68750       0.759259\n",
       "4    0.620996            0.72500       0.722222\n",
       "5    0.616234            0.68750       0.722222\n",
       "6    0.602381            0.70625       0.722222\n",
       "7    0.592857            0.66875       0.703704\n",
       "8    0.583766            0.66250       0.685185\n",
       "9    0.593290            0.66250       0.685185\n",
       "10   0.584416            0.66875       0.722222\n",
       "11   0.565584            0.62500       0.703704\n",
       "12   0.579654            0.64375       0.703704\n",
       "13   0.583983            0.66250       0.666667\n",
       "14   0.579437            0.63750       0.648148"
      ]
     },
     "execution_count": 55,
     "metadata": {},
     "output_type": "execute_result"
    }
   ],
   "source": [
    "import numpy as np\n",
    "cv_score_array = np.array(cv_scores)\n",
    "training_accuracy_array = np.array(training_accuracy)\n",
    "test_accuracy_array = np.array(test_accuracy)\n",
    "classification_report_array = np.array(classification_report)\n",
    "\n",
    "scores = {'cv_scores': cv_score_array,\n",
    "         'training_accuracy':training_accuracy_array,\n",
    "         'test_accuracy':test_accuracy_array}\n",
    "pd.DataFrame(scores)"
   ]
  },
  {
   "cell_type": "code",
   "execution_count": 56,
   "id": "f1c46477",
   "metadata": {},
   "outputs": [
    {
     "data": {
      "image/png": "[encoded data removed]",
      "text/plain": [
       "<Figure size 1080x576 with 1 Axes>"
      ]
     },
     "metadata": {
      "needs_background": "light"
     },
     "output_type": "display_data"
    }
   ],
   "source": [
    "plt.figure(figsize=(15,8))\n",
    "plt.plot(range(1,31,2),cv_scores,label = 'CV_Score')\n",
    "plt.plot(range(1,31,2),training_accuracy,label = 'Training_Accuracy')\n",
    "plt.plot(range(1,31,2),test_accuracy,label = 'Test_Accuracy')\n",
    "plt.title('KNN-neighbours graph - CV_Score vs Training_Accuracy vs Test_Accuracy',fontsize=16)\n",
    "plt.legend()\n",
    "plt.xlabel('Neighbours')\n",
    "plt.ylabel('Mean Accuracy')\n",
    "plt.show()"
   ]
  },
  {
   "cell_type": "code",
   "execution_count": null,
   "id": "efe78592",
   "metadata": {},
   "outputs": [],
   "source": []
  }
 ],
 "metadata": {
  "kernelspec": {
   "display_name": "Python 3",
   "language": "python",
   "name": "python3"
  },
  "language_info": {
   "codemirror_mode": {
    "name": "ipython",
    "version": 3
   },
   "file_extension": ".py",
   "mimetype": "text/x-python",
   "name": "python",
   "nbconvert_exporter": "python",
   "pygments_lexer": "ipython3",
   "version": "3.8.8"
  }
 },
 "nbformat": 4,
 "nbformat_minor": 5
}
